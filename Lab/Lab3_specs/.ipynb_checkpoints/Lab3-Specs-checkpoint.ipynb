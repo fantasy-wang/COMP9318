{
 "cells": [
  {
   "cell_type": "markdown",
   "metadata": {},
   "source": [
    "# COMP9318-Lab3"
   ]
  },
  {
   "cell_type": "markdown",
   "metadata": {},
   "source": [
    "## Instructions\n",
    "1. This note book contains instructions for **COMP9318-Lab3**.\n",
    "\n",
    "* You are required to complete your implementation in a file `submission.py` provided along with this notebook.\n",
    "\n",
    "* You are not allowed to print out unnecessary stuff. We will not consider any output printed out on the screen. All results should be returned in appropriate data structures via corresponding functions.\n",
    "\n",
    "* You can submit your implementation for **Lab3** via following link: https://unswkg.net/submit/ .\n",
    "\n",
    "* For each question, we have provided you with detailed instructions along with question headings. In case of any problem, you can post your query @ Piazza.\n",
    "\n",
    "* You are allowed to add other functions and/or import modules (you may have to in this lab), but you are not allowed to define global variables. **Only functions are allowed** in `submission.py`. \n",
    "\n",
    "* You should not import unnecessary modules/libraries, failing to import such modules at test time will lead to errors.\n",
    "\n",
    "* We will provide immediate feedback on your submission. You can access your scores using the online submission portal on the same day. \n",
    "\n",
    "* For **Final Evaluation** we will be using a different dataset, so your final scores may vary.  \n",
    "\n",
    "* You are allowed to submit as many times as you want before the deadline, but **ONLY the latest version will be kept and marked**.\n",
    "\n",
    "* Submission deadline for this assignment is **20:59:59 on 6th April, 2020 (Sydney Time)**. We will **not** accept any late submissions."
   ]
  },
  {
   "cell_type": "markdown",
   "metadata": {},
   "source": [
    "# Quesion 1: Hierarchical Clustering\n",
    "\n",
    "You are required to implement a hierarchical clustering algorithm.\n",
    "\n",
    "The input data is a set of unit vectors (i.e., their norm is 1)."
   ]
  },
  {
   "cell_type": "code",
   "execution_count": 2,
   "metadata": {},
   "outputs": [
    {
     "name": "stdout",
     "output_type": "stream",
     "text": [
      "[[0.4472136  0.89442719]\n",
      " [0.9486833  0.31622777]\n",
      " [0.70710678 0.70710678]\n",
      " [0.24253563 0.9701425 ]\n",
      " [0.99388373 0.11043153]]\n"
     ]
    }
   ],
   "source": [
    "import numpy as np\n",
    "\n",
    "data = np.loadtxt('asset/data.txt', dtype = float)\n",
    "print(data)"
   ]
  },
  {
   "cell_type": "markdown",
   "metadata": {},
   "source": [
    "We use inner product to evaluate the similarity between two vectors."
   ]
  },
  {
   "cell_type": "code",
   "execution_count": 13,
   "metadata": {},
   "outputs": [
    {
     "name": "stdout",
     "output_type": "stream",
     "text": [
      "0.7071067811865475\n"
     ]
    }
   ],
   "source": [
    "def dot_product(a, b):\n",
    "    res = 0\n",
    "    for i in range(len(a)):\n",
    "        res += a[i] * b[i]\n",
    "    return res\n",
    "\n",
    "print(dot_product(data[0], data[1]))"
   ]
  },
  {
   "cell_type": "markdown",
   "metadata": {},
   "source": [
    "You need to implement the hierarchical clustering algorithm with **complete link**.\n",
    "\n",
    "The two arguments of ```hc()``` are ```data``` and ```k```, where ```k``` is the number of clusters.\n",
    "\n",
    "The expected output is a list of ```n``` integers, which correspond to the labels of these vectors. The integer (i.e., label) should in $[0,k)$."
   ]
  },
  {
   "cell_type": "code",
   "execution_count": 3,
   "metadata": {},
   "outputs": [
    {
     "name": "stdout",
     "output_type": "stream",
     "text": [
      "[2, 0, 1, 2, 0]\n"
     ]
    }
   ],
   "source": [
    "import submission as submission\n",
    "\n",
    "k = 3\n",
    "print(submission.hc(data, k))"
   ]
  },
  {
   "cell_type": "markdown",
   "metadata": {},
   "source": [
    "We only interesting in the clustering results rather than the labels (for example, ```[1, 0, 2, 1, 0]``` and ```[2, 0, 1, 2, 0]``` are considered to be the same). Thus we will use the average similarity between each vector and its cluster center to evaluate your implementation.\n",
    "\n",
    "Note: you do not need to implement ```compute_error()``` or include it in your submission."
   ]
  },
  {
   "cell_type": "code",
   "execution_count": 4,
   "metadata": {},
   "outputs": [
    {
     "data": {
      "text/plain": [
       "8.907978948522723"
      ]
     },
     "execution_count": 4,
     "metadata": {},
     "output_type": "execute_result"
    }
   ],
   "source": [
    "def compute_error(data, labels, k):\n",
    "    n, d = data.shape\n",
    "    centers = []\n",
    "    for i in range(k):\n",
    "        centers.append([0 for j in range(d)])\n",
    "    \n",
    "    for i in range(n):\n",
    "        centers[labels[i]] = [x + y for x, y in zip(centers[labels[i]], data[i])]\n",
    "\n",
    "    error = 0\n",
    "    for i in range(n):\n",
    "        error += dot_product(centers[labels[i]], data[i])\n",
    "    return error \n",
    "    \n",
    "compute_error(data, submission.hc(data, k), k)"
   ]
  },
  {
   "cell_type": "code",
   "execution_count": 3,
   "metadata": {},
   "outputs": [],
   "source": [
    "from matplotlib import pyplot as plt\n",
    "from scipy.cluster.hierarchy import dendrogram, linkage, fcluster\n",
    "import numpy as np\n",
    "\n",
    "%matplotlib inline\n",
    "np.set_printoptions(precision=5, suppress=True)"
   ]
  },
  {
   "cell_type": "code",
   "execution_count": 4,
   "metadata": {},
   "outputs": [
    {
     "name": "stdout",
     "output_type": "stream",
     "text": [
      "[[1.      4.      0.2107  2.     ]\n",
      " [0.      3.      0.21823 2.     ]\n",
      " [2.      6.      0.53387 3.     ]\n",
      " [5.      7.      1.14176 5.     ]]\n"
     ]
    }
   ],
   "source": [
    "Z = linkage(data, 'complete')\n",
    "print(Z)"
   ]
  },
  {
   "cell_type": "code",
   "execution_count": 5,
   "metadata": {},
   "outputs": [
    {
     "data": {
      "text/plain": [
       "array([1, 1, 1, 1, 1], dtype=int32)"
      ]
     },
     "execution_count": 5,
     "metadata": {},
     "output_type": "execute_result"
    }
   ],
   "source": [
    "k=1\n",
    "fcluster(Z, k, criterion='maxclust')"
   ]
  },
  {
   "cell_type": "code",
   "execution_count": 6,
   "metadata": {},
   "outputs": [
    {
     "data": {
      "text/plain": [
       "array([2, 1, 2, 2, 1], dtype=int32)"
      ]
     },
     "execution_count": 6,
     "metadata": {},
     "output_type": "execute_result"
    }
   ],
   "source": [
    "k=2\n",
    "fcluster(Z, k, criterion='maxclust')"
   ]
  },
  {
   "cell_type": "code",
   "execution_count": 7,
   "metadata": {},
   "outputs": [
    {
     "data": {
      "text/plain": [
       "array([2, 1, 3, 2, 1], dtype=int32)"
      ]
     },
     "execution_count": 7,
     "metadata": {},
     "output_type": "execute_result"
    }
   ],
   "source": [
    "k=3\n",
    "fcluster(Z, k, criterion='maxclust')"
   ]
  },
  {
   "cell_type": "code",
   "execution_count": 8,
   "metadata": {},
   "outputs": [
    {
     "data": {
      "text/plain": [
       "array([2, 1, 3, 2, 1], dtype=int32)"
      ]
     },
     "execution_count": 8,
     "metadata": {},
     "output_type": "execute_result"
    }
   ],
   "source": [
    "k=4\n",
    "fcluster(Z, k, criterion='maxclust')"
   ]
  },
  {
   "cell_type": "code",
   "execution_count": 9,
   "metadata": {},
   "outputs": [],
   "source": [
    "def distance(a, b):\n",
    "    dis_x = (a[0] - b[0]) ** 2\n",
    "    dis_y = (a[1] - b[1]) ** 2\n",
    "    dis = sqrt(dis_x + dis_y)\n",
    "    return dis\n",
    "\n",
    "\n",
    "def distance_matrix(data):\n",
    "    matrix = defaultdict(dict)\n",
    "    max_sim = 10000\n",
    "    res = 0\n",
    "    \n",
    "    for i in range(len(data)):\n",
    "        if i == len(data) - 1:\n",
    "            matrix[i] = {}\n",
    "            break\n",
    "        index = i + 1\n",
    "\n",
    "        \n",
    "        while (index < len(data)):\n",
    "            temp_dict = {}\n",
    "            \n",
    "            if (index != i):\n",
    "                res = distance(data[i], data[index])\n",
    "            \n",
    "            if (res < max_sim):\n",
    "                max_sim = res\n",
    "                info = []\n",
    "                info.append(res)\n",
    "                info.append(i)\n",
    "                info.append(index)\n",
    "\n",
    "            matrix[i][index] = res\n",
    "            index += 1\n",
    "    return matrix, info\n",
    "\n",
    "def original_matrix(data):\n",
    "    \n",
    "    res = 0\n",
    "    matrix = defaultdict(dict)\n",
    "    \n",
    "    for i in range(len(data)):\n",
    "        index = 0\n",
    "        while (index < len(data)):\n",
    "            temp_dict = {}\n",
    "            \n",
    "            if (index != i):\n",
    "                res = distance(data[i], data[index])\n",
    "            else:\n",
    "                res = 0\n",
    "            \n",
    "            matrix[i][index] = res\n",
    "            index += 1\n",
    "            \n",
    "    return matrix"
   ]
  },
  {
   "cell_type": "code",
   "execution_count": 10,
   "metadata": {},
   "outputs": [],
   "source": [
    "def change_matrix(matrix, og_matrix, info, vertex, length, num, result):\n",
    "#     print(f'The vertex is {vertex}\\n')\n",
    "    vertex_1 = info[1]\n",
    "    vertex_2 = info[2]\n",
    "    max_sim = 10000\n",
    "#     print(f'The vertexs is {vertex_1, vertex_2}')\n",
    "    \n",
    "    #add new point into vertex\n",
    "    new_vertex = length + num\n",
    "    if vertex_1 >= length:\n",
    "        temp1 = vertex[vertex_1]\n",
    "    else:\n",
    "        temp1 = [vertex_1]  \n",
    "    if vertex_2 >= length:\n",
    "        temp2 = vertex[vertex_2]\n",
    "    else:\n",
    "        temp2 = [vertex_2]\n",
    "    point = temp1 + temp2\n",
    "#     print(f'The new vertex is {new_vertex}')\n",
    "    vertex[new_vertex] = point\n",
    "    vertex[new_vertex].sort()\n",
    "#     print(f'\\nThe Vertex is {vertex}')\n",
    "    if vertex_1 in matrix:\n",
    "        matrix.pop(vertex_1)\n",
    "    if vertex_2 in matrix:\n",
    "        matrix.pop(vertex_2)\n",
    "#     print(f'The matrix is {matrix}\\n')\n",
    "    \n",
    "    \n",
    "    for key in matrix:\n",
    "        sim = 0\n",
    "        if key >= length:\n",
    "            for subkey in vertex[key]:\n",
    "                for index in vertex[new_vertex]:\n",
    "                    if og_matrix[subkey][index] > sim:\n",
    "                        sim = og_matrix[subkey][index]\n",
    "                        matrix[key][new_vertex] = sim\n",
    "                        \n",
    "                    if vertex_1 in matrix[key]:\n",
    "                        matrix[key].pop(vertex_1)\n",
    "                    if vertex_2 in matrix[key]:\n",
    "                        matrix[key].pop(vertex_2)\n",
    "        else:\n",
    "            for index in vertex[new_vertex]:\n",
    "                if og_matrix[key][index] > sim:\n",
    "                    sim = og_matrix[key][index]\n",
    "                    matrix[key][new_vertex] = sim\n",
    "\n",
    "                if vertex_1 in matrix[key]:\n",
    "                    matrix[key].pop(vertex_1)\n",
    "                if vertex_2 in matrix[key]:\n",
    "                    matrix[key].pop(vertex_2)\n",
    "                    \n",
    "        # find out the highest similarity\n",
    "        if vertex_1 != key and vertex_2 != key:\n",
    "            point = min(matrix[key], key = matrix[key].get)\n",
    "            if matrix[key][point] < max_sim:\n",
    "                max_sim = matrix[key][point]\n",
    "                info[0] = matrix[key][point]\n",
    "                info[1] = key\n",
    "                info[2] = point\n",
    "                \n",
    "    \n",
    "    matrix[new_vertex] = {}\n",
    "#     print(f'The matrix is {matrix}')\n",
    "    \n",
    "    temp = result[:]\n",
    "    for i in temp:\n",
    "        if (isinstance(i, int) and i in vertex[new_vertex]) or (isinstance(i, list) and set(i).issubset(set(vertex[new_vertex]))):\n",
    "            result.remove(i)\n",
    "    result.append(vertex[new_vertex])\n",
    "    \n",
    "#     print(f'In the {num + 1} clustering, the matrix is {matrix}\\n')\n",
    "    \n",
    "#     print(f'\\nThe result is {result}\\n')\n",
    "\n",
    "    return result"
   ]
  },
  {
   "cell_type": "code",
   "execution_count": 11,
   "metadata": {},
   "outputs": [],
   "source": [
    "def hc(data, k):# do not change the heading of the function\n",
    "    \n",
    "    og_matrix = original_matrix(data) \n",
    "    matrix, info = distance_matrix(data)\n",
    "    vertex = defaultdict(list)\n",
    "    length = len(data)\n",
    "    result = [x for x in range(length)]\n",
    "#     print(f'The result is {result}')\n",
    "    num = 0\n",
    "#     print(f'This is the {num + 1} clustering')\n",
    "#     print(f'-----------------------------------\\n')\n",
    "    if k >= length - 2:\n",
    "        k = length - 2\n",
    "    while(len(matrix) > k):\n",
    "        result = change_matrix(matrix, og_matrix, info, vertex, length, num, result)\n",
    "        num += 1\n",
    "#         print(f'This is the {num + 1} clustering')\n",
    "#         print(f'-----------------------------------\\n')\n",
    "    \n",
    "    output = [x for x in range(length)]\n",
    "    for i in result:\n",
    "        if isinstance(i, int):\n",
    "            output[i] = k - 1\n",
    "        else:\n",
    "            for index in i:\n",
    "                output[index] = k - 1\n",
    "        k -= 1\n",
    "    \n",
    "    return output"
   ]
  },
  {
   "cell_type": "code",
   "execution_count": 13,
   "metadata": {},
   "outputs": [
    {
     "data": {
      "text/plain": [
       "[0, 1, 0, 0, 1]"
      ]
     },
     "execution_count": 13,
     "metadata": {},
     "output_type": "execute_result"
    }
   ],
   "source": [
    "from collections import defaultdict\n",
    "from math import sqrt\n",
    "hc(data, 2)"
   ]
  },
  {
   "cell_type": "code",
   "execution_count": null,
   "metadata": {},
   "outputs": [],
   "source": []
  },
  {
   "cell_type": "code",
   "execution_count": null,
   "metadata": {},
   "outputs": [],
   "source": []
  },
  {
   "cell_type": "code",
   "execution_count": 14,
   "metadata": {},
   "outputs": [
    {
     "name": "stdout",
     "output_type": "stream",
     "text": [
      "[[0.41702 0.72032]\n",
      " [0.00011 0.30233]\n",
      " [0.14676 0.09234]\n",
      " [0.18626 0.34556]\n",
      " [0.44721 0.89443]\n",
      " [0.94868 0.31623]\n",
      " [0.58626 0.34676]\n",
      " [0.34721 0.32568]\n",
      " [0.44721 0.56894]]\n"
     ]
    }
   ],
   "source": [
    "data1 = np.loadtxt('asset/data_1.txt', dtype = float)\n",
    "print(data1)"
   ]
  },
  {
   "cell_type": "code",
   "execution_count": 15,
   "metadata": {},
   "outputs": [
    {
     "name": "stdout",
     "output_type": "stream",
     "text": [
      "[[ 0.       8.       0.15436  2.     ]\n",
      " [ 3.       7.       0.16218  2.     ]\n",
      " [ 1.       2.       0.25613  2.     ]\n",
      " [ 4.       9.       0.32548  3.     ]\n",
      " [10.      11.       0.34788  4.     ]\n",
      " [ 5.       6.       0.36371  2.     ]\n",
      " [12.      14.       0.76537  5.     ]\n",
      " [13.      15.       0.94867  9.     ]]\n"
     ]
    }
   ],
   "source": [
    "Z = linkage(data1, 'complete')\n",
    "print(Z)"
   ]
  },
  {
   "cell_type": "code",
   "execution_count": 16,
   "metadata": {},
   "outputs": [
    {
     "data": {
      "text/plain": [
       "array([1, 1, 1, 1, 1, 1, 1, 1, 1], dtype=int32)"
      ]
     },
     "execution_count": 16,
     "metadata": {},
     "output_type": "execute_result"
    }
   ],
   "source": [
    "k=1\n",
    "fcluster(Z, k, criterion='maxclust')"
   ]
  },
  {
   "cell_type": "code",
   "execution_count": 17,
   "metadata": {},
   "outputs": [
    {
     "data": {
      "text/plain": [
       "array([2, 1, 1, 1, 2, 2, 2, 1, 2], dtype=int32)"
      ]
     },
     "execution_count": 17,
     "metadata": {},
     "output_type": "execute_result"
    }
   ],
   "source": [
    "k=2\n",
    "fcluster(Z, k, criterion='maxclust')"
   ]
  },
  {
   "cell_type": "code",
   "execution_count": 18,
   "metadata": {},
   "outputs": [
    {
     "data": {
      "text/plain": [
       "array([2, 1, 1, 1, 2, 3, 3, 1, 2], dtype=int32)"
      ]
     },
     "execution_count": 18,
     "metadata": {},
     "output_type": "execute_result"
    }
   ],
   "source": [
    "k=3\n",
    "fcluster(Z, k, criterion='maxclust')"
   ]
  },
  {
   "cell_type": "code",
   "execution_count": 19,
   "metadata": {},
   "outputs": [
    {
     "data": {
      "text/plain": [
       "array([2, 1, 1, 1, 2, 3, 4, 1, 2], dtype=int32)"
      ]
     },
     "execution_count": 19,
     "metadata": {},
     "output_type": "execute_result"
    }
   ],
   "source": [
    "k=4\n",
    "fcluster(Z, k, criterion='maxclust')"
   ]
  },
  {
   "cell_type": "code",
   "execution_count": 20,
   "metadata": {},
   "outputs": [
    {
     "data": {
      "text/plain": [
       "array([3, 2, 2, 1, 3, 4, 5, 1, 3], dtype=int32)"
      ]
     },
     "execution_count": 20,
     "metadata": {},
     "output_type": "execute_result"
    }
   ],
   "source": [
    "k=5\n",
    "fcluster(Z, k, criterion='maxclust')"
   ]
  },
  {
   "cell_type": "code",
   "execution_count": 21,
   "metadata": {},
   "outputs": [
    {
     "data": {
      "text/plain": [
       "array([3, 2, 2, 1, 4, 5, 6, 1, 3], dtype=int32)"
      ]
     },
     "execution_count": 21,
     "metadata": {},
     "output_type": "execute_result"
    }
   ],
   "source": [
    "k=6\n",
    "fcluster(Z, k, criterion='maxclust')"
   ]
  },
  {
   "cell_type": "code",
   "execution_count": 22,
   "metadata": {},
   "outputs": [
    {
     "data": {
      "text/plain": [
       "array([4, 2, 3, 1, 5, 6, 7, 1, 4], dtype=int32)"
      ]
     },
     "execution_count": 22,
     "metadata": {},
     "output_type": "execute_result"
    }
   ],
   "source": [
    "k=7\n",
    "fcluster(Z, k, criterion='maxclust')"
   ]
  },
  {
   "cell_type": "code",
   "execution_count": 23,
   "metadata": {},
   "outputs": [
    {
     "data": {
      "text/plain": [
       "array([4, 2, 3, 1, 5, 6, 7, 1, 4], dtype=int32)"
      ]
     },
     "execution_count": 23,
     "metadata": {},
     "output_type": "execute_result"
    }
   ],
   "source": [
    "k=8\n",
    "fcluster(Z, k, criterion='maxclust')"
   ]
  },
  {
   "cell_type": "code",
   "execution_count": 24,
   "metadata": {},
   "outputs": [
    {
     "data": {
      "text/plain": [
       "array([4, 2, 3, 1, 5, 6, 7, 1, 4], dtype=int32)"
      ]
     },
     "execution_count": 24,
     "metadata": {},
     "output_type": "execute_result"
    }
   ],
   "source": [
    "k=9\n",
    "fcluster(Z, k, criterion='maxclust')"
   ]
  },
  {
   "cell_type": "code",
   "execution_count": 25,
   "metadata": {},
   "outputs": [
    {
     "data": {
      "text/plain": [
       "array([4, 2, 3, 1, 5, 6, 7, 1, 4], dtype=int32)"
      ]
     },
     "execution_count": 25,
     "metadata": {},
     "output_type": "execute_result"
    }
   ],
   "source": [
    "k=10\n",
    "fcluster(Z, k, criterion='maxclust')"
   ]
  },
  {
   "cell_type": "code",
   "execution_count": 26,
   "metadata": {},
   "outputs": [
    {
     "data": {
      "text/plain": [
       "[1, 6, 5, 0, 4, 3, 2, 0, 1]"
      ]
     },
     "execution_count": 26,
     "metadata": {},
     "output_type": "execute_result"
    }
   ],
   "source": [
    "hc(data1, 10)"
   ]
  },
  {
   "cell_type": "code",
   "execution_count": 27,
   "metadata": {},
   "outputs": [
    {
     "data": {
      "text/plain": [
       "[1, 6, 5, 0, 4, 3, 2, 0, 1]"
      ]
     },
     "execution_count": 27,
     "metadata": {},
     "output_type": "execute_result"
    }
   ],
   "source": [
    "hc(data1, 9)"
   ]
  },
  {
   "cell_type": "code",
   "execution_count": 28,
   "metadata": {},
   "outputs": [],
   "source": [
    "\n",
    "def get_raw_data(n):\n",
    "    _data=np.random.rand(n,2)\n",
    "    #生成数据的格式是n个（x,y）\n",
    "    _groups={idx:[[x,y]] for idx,(x,y) in enumerate(_data)}\n",
    "    return _groups"
   ]
  },
  {
   "cell_type": "code",
   "execution_count": 30,
   "metadata": {},
   "outputs": [
    {
     "data": {
      "text/plain": [
       "{0: [[0.5955080272010081, 0.8261306845916339]],\n",
       " 1: [[0.5490814775250495, 0.27348645738261024]],\n",
       " 2: [[0.3432530369353941, 0.938432577084384]],\n",
       " 3: [[0.26845991157667426, 0.7802558950146863]],\n",
       " 4: [[0.7221922412411955, 0.7367857269650825]],\n",
       " 5: [[0.735908397289079, 0.6135626396107856]],\n",
       " 6: [[0.21513579185914322, 0.6423687405010904]],\n",
       " 7: [[0.19024714839136647, 0.8854031338760959]]}"
      ]
     },
     "execution_count": 30,
     "metadata": {},
     "output_type": "execute_result"
    }
   ],
   "source": [
    "get_raw_data(8)"
   ]
  },
  {
   "cell_type": "code",
   "execution_count": null,
   "metadata": {},
   "outputs": [],
   "source": []
  },
  {
   "cell_type": "code",
   "execution_count": null,
   "metadata": {},
   "outputs": [],
   "source": []
  },
  {
   "cell_type": "code",
   "execution_count": 31,
   "metadata": {},
   "outputs": [
    {
     "name": "stdout",
     "output_type": "stream",
     "text": [
      "[[0.59551 0.82613]\n",
      " [0.54908 0.27349]\n",
      " [0.34325 0.93843]\n",
      " [0.26846 0.78026]\n",
      " [0.72219 0.73679]\n",
      " [0.73591 0.61356]\n",
      " [0.21514 0.64237]\n",
      " [0.19025 0.8854 ]]\n"
     ]
    }
   ],
   "source": [
    "data2 = np.loadtxt('asset/data_2.txt', dtype = float)\n",
    "print(data2)"
   ]
  },
  {
   "cell_type": "code",
   "execution_count": 33,
   "metadata": {},
   "outputs": [
    {
     "name": "stdout",
     "output_type": "stream",
     "text": [
      "[[ 4.       5.       0.12398  2.     ]\n",
      " [ 3.       7.       0.13105  2.     ]\n",
      " [ 2.       9.       0.17497  3.     ]\n",
      " [ 0.       8.       0.25475  3.     ]\n",
      " [ 6.      10.       0.3226   4.     ]\n",
      " [ 1.      11.       0.55459  4.     ]\n",
      " [12.      13.       0.70937  8.     ]]\n"
     ]
    }
   ],
   "source": [
    "Z = linkage(data2, 'complete')\n",
    "print(Z)"
   ]
  },
  {
   "cell_type": "code",
   "execution_count": 34,
   "metadata": {},
   "outputs": [
    {
     "data": {
      "text/plain": [
       "[0, 0, 0, 0, 0, 0, 0, 0]"
      ]
     },
     "execution_count": 34,
     "metadata": {},
     "output_type": "execute_result"
    }
   ],
   "source": [
    "hc(data2, 1)"
   ]
  },
  {
   "cell_type": "code",
   "execution_count": 35,
   "metadata": {},
   "outputs": [
    {
     "data": {
      "text/plain": [
       "array([1, 1, 1, 1, 1, 1, 1, 1], dtype=int32)"
      ]
     },
     "execution_count": 35,
     "metadata": {},
     "output_type": "execute_result"
    }
   ],
   "source": [
    "k=1\n",
    "fcluster(Z, k, criterion='maxclust')"
   ]
  },
  {
   "cell_type": "code",
   "execution_count": 36,
   "metadata": {},
   "outputs": [
    {
     "data": {
      "text/plain": [
       "[0, 0, 1, 1, 0, 0, 1, 1]"
      ]
     },
     "execution_count": 36,
     "metadata": {},
     "output_type": "execute_result"
    }
   ],
   "source": [
    "hc(data2, 2)"
   ]
  },
  {
   "cell_type": "code",
   "execution_count": 37,
   "metadata": {},
   "outputs": [
    {
     "data": {
      "text/plain": [
       "array([2, 2, 1, 1, 2, 2, 1, 1], dtype=int32)"
      ]
     },
     "execution_count": 37,
     "metadata": {},
     "output_type": "execute_result"
    }
   ],
   "source": [
    "k=2\n",
    "fcluster(Z, k, criterion='maxclust')"
   ]
  },
  {
   "cell_type": "code",
   "execution_count": 38,
   "metadata": {},
   "outputs": [
    {
     "data": {
      "text/plain": [
       "[1, 2, 0, 0, 1, 1, 0, 0]"
      ]
     },
     "execution_count": 38,
     "metadata": {},
     "output_type": "execute_result"
    }
   ],
   "source": [
    "hc(data2, 3)"
   ]
  },
  {
   "cell_type": "code",
   "execution_count": 39,
   "metadata": {},
   "outputs": [
    {
     "data": {
      "text/plain": [
       "array([2, 3, 1, 1, 2, 2, 1, 1], dtype=int32)"
      ]
     },
     "execution_count": 39,
     "metadata": {},
     "output_type": "execute_result"
    }
   ],
   "source": [
    "k=3\n",
    "fcluster(Z, k, criterion='maxclust')"
   ]
  },
  {
   "cell_type": "code",
   "execution_count": 40,
   "metadata": {},
   "outputs": [
    {
     "data": {
      "text/plain": [
       "[0, 3, 1, 1, 0, 0, 2, 1]"
      ]
     },
     "execution_count": 40,
     "metadata": {},
     "output_type": "execute_result"
    }
   ],
   "source": [
    "hc(data2, 4)"
   ]
  },
  {
   "cell_type": "code",
   "execution_count": 41,
   "metadata": {},
   "outputs": [
    {
     "data": {
      "text/plain": [
       "array([3, 4, 1, 1, 3, 3, 2, 1], dtype=int32)"
      ]
     },
     "execution_count": 41,
     "metadata": {},
     "output_type": "execute_result"
    }
   ],
   "source": [
    "k=4\n",
    "fcluster(Z, k, criterion='maxclust')"
   ]
  },
  {
   "cell_type": "code",
   "execution_count": 42,
   "metadata": {},
   "outputs": [
    {
     "data": {
      "text/plain": [
       "[4, 3, 0, 0, 1, 1, 2, 0]"
      ]
     },
     "execution_count": 42,
     "metadata": {},
     "output_type": "execute_result"
    }
   ],
   "source": [
    "hc(data2, 5)"
   ]
  },
  {
   "cell_type": "code",
   "execution_count": 43,
   "metadata": {},
   "outputs": [
    {
     "data": {
      "text/plain": [
       "array([4, 5, 1, 1, 3, 3, 2, 1], dtype=int32)"
      ]
     },
     "execution_count": 43,
     "metadata": {},
     "output_type": "execute_result"
    }
   ],
   "source": [
    "k=5\n",
    "fcluster(Z, k, criterion='maxclust')"
   ]
  },
  {
   "cell_type": "code",
   "execution_count": 44,
   "metadata": {},
   "outputs": [
    {
     "data": {
      "text/plain": [
       "[5, 4, 3, 0, 1, 1, 2, 0]"
      ]
     },
     "execution_count": 44,
     "metadata": {},
     "output_type": "execute_result"
    }
   ],
   "source": [
    "hc(data2, 6)"
   ]
  },
  {
   "cell_type": "code",
   "execution_count": 45,
   "metadata": {},
   "outputs": [
    {
     "data": {
      "text/plain": [
       "array([5, 6, 2, 1, 4, 4, 3, 1], dtype=int32)"
      ]
     },
     "execution_count": 45,
     "metadata": {},
     "output_type": "execute_result"
    }
   ],
   "source": [
    "k=6\n",
    "fcluster(Z, k, criterion='maxclust')"
   ]
  },
  {
   "cell_type": "code",
   "execution_count": 46,
   "metadata": {},
   "outputs": [
    {
     "data": {
      "text/plain": [
       "[5, 4, 3, 0, 1, 1, 2, 0]"
      ]
     },
     "execution_count": 46,
     "metadata": {},
     "output_type": "execute_result"
    }
   ],
   "source": [
    "hc(data2, 7)"
   ]
  },
  {
   "cell_type": "code",
   "execution_count": 47,
   "metadata": {},
   "outputs": [
    {
     "data": {
      "text/plain": [
       "array([5, 6, 2, 1, 4, 4, 3, 1], dtype=int32)"
      ]
     },
     "execution_count": 47,
     "metadata": {},
     "output_type": "execute_result"
    }
   ],
   "source": [
    "k=7\n",
    "fcluster(Z, k, criterion='maxclust')"
   ]
  },
  {
   "cell_type": "code",
   "execution_count": 48,
   "metadata": {},
   "outputs": [
    {
     "data": {
      "text/plain": [
       "[5, 4, 3, 0, 1, 1, 2, 0]"
      ]
     },
     "execution_count": 48,
     "metadata": {},
     "output_type": "execute_result"
    }
   ],
   "source": [
    "hc(data2, 8)"
   ]
  },
  {
   "cell_type": "code",
   "execution_count": 49,
   "metadata": {},
   "outputs": [
    {
     "data": {
      "text/plain": [
       "array([5, 6, 2, 1, 4, 4, 3, 1], dtype=int32)"
      ]
     },
     "execution_count": 49,
     "metadata": {},
     "output_type": "execute_result"
    }
   ],
   "source": [
    "k=8\n",
    "fcluster(Z, k, criterion='maxclust')"
   ]
  },
  {
   "cell_type": "code",
   "execution_count": null,
   "metadata": {},
   "outputs": [],
   "source": []
  }
 ],
 "metadata": {
  "kernelspec": {
   "display_name": "Python 3",
   "language": "python",
   "name": "python3"
  },
  "language_info": {
   "codemirror_mode": {
    "name": "ipython",
    "version": 3
   },
   "file_extension": ".py",
   "mimetype": "text/x-python",
   "name": "python",
   "nbconvert_exporter": "python",
   "pygments_lexer": "ipython3",
   "version": "3.7.3"
  }
 },
 "nbformat": 4,
 "nbformat_minor": 2
}
