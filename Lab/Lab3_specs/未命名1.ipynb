{
 "cells": [
  {
   "cell_type": "code",
   "execution_count": 1,
   "metadata": {},
   "outputs": [],
   "source": [
    "def euclidean_distance(a, b):\n",
    "    \n",
    "    x = float(a[0]) - float(b[0])\n",
    "    x = x * x\n",
    "    y = float(a[1]) - float(b[1])\n",
    "    y = y * y\n",
    "    dist = round(np.sqrt(x + y), 2)\n",
    "    return dist"
   ]
  },
  {
   "cell_type": "code",
   "execution_count": null,
   "metadata": {},
   "outputs": [],
   "source": [
    "def complete_linkage(data, length):\n",
    "    \n",
    "    while len(data) > 1:\n",
    "        print(f'This is {length - len(data) + 1} clustering')\n",
    "        min_distance = float('inf')\n",
    "        for i in range(len(data)):\n",
    "            print('-------------------')\n",
    "            for j in range(i + 1, len(data)):\n",
    "                distance = euclidean_distance(data[i], data[j])\n",
    "                print('calculate {i} and {j} distance is: {distance}')\n",
    "                if distance < min_distance:\n",
    "                    min_distance = distance\n",
    "                    min_ij = (i, j)\n",
    "        i, j = min_ij\n",
    "        data1 = data[i]\n",
    "        data2 = data[j]\n",
    "        data = np.delete(data, j, 0)\n",
    "        data = np.delete(data, i, 0)\n",
    "        "
   ]
  },
  {
   "cell_type": "code",
   "execution_count": null,
   "metadata": {},
   "outputs": [],
   "source": []
  },
  {
   "cell_type": "code",
   "execution_count": null,
   "metadata": {},
   "outputs": [],
   "source": []
  },
  {
   "cell_type": "code",
   "execution_count": null,
   "metadata": {},
   "outputs": [],
   "source": []
  },
  {
   "cell_type": "code",
   "execution_count": 28,
   "metadata": {},
   "outputs": [],
   "source": [
    "## import modules here\n",
    "import numpy as np\n",
    "from collections import defaultdict\n",
    "from math import sqrt\n",
    "################# Question 1 #################\n",
    "\n",
    "def distance(a, b):\n",
    "    dis_x = (a[0] - b[0]) ** 2\n",
    "    dis_y = (a[1] - b[1]) ** 2\n",
    "    dis = sqrt(dis_x + dis_y)\n",
    "    return dis\n",
    "\n",
    "\n",
    "def distance_matrix(data):\n",
    "    matrix = defaultdict(dict)\n",
    "    max_sim = 10000\n",
    "    res = 0\n",
    "    \n",
    "    for i in range(len(data)):\n",
    "        if i == len(data) - 1:\n",
    "            matrix[i] = {}\n",
    "            break\n",
    "        index = i + 1\n",
    "\n",
    "        \n",
    "        while (index < len(data)):\n",
    "            temp_dict = {}\n",
    "            \n",
    "            if (index != i):\n",
    "                res = distance(data[i], data[index])\n",
    "            \n",
    "            if (res < max_sim):\n",
    "                max_sim = res\n",
    "                info = []\n",
    "                info.append(res)\n",
    "                info.append(i)\n",
    "                info.append(index)\n",
    "\n",
    "            matrix[i][index] = res\n",
    "            index += 1\n",
    "    return matrix, info\n",
    "\n",
    "def original_matrix(data):\n",
    "    \n",
    "    res = 0\n",
    "    matrix = defaultdict(dict)\n",
    "    \n",
    "    for i in range(len(data)):\n",
    "        index = 0\n",
    "        while (index < len(data)):\n",
    "            temp_dict = {}\n",
    "            \n",
    "            if (index != i):\n",
    "                res = distance(data[i], data[index])\n",
    "            else:\n",
    "                res = 0\n",
    "            \n",
    "            matrix[i][index] = res\n",
    "            index += 1\n",
    "            \n",
    "    return matrix\n",
    "\n",
    "def change_matrix(matrix, og_matrix, info, vertex, length, num, result):\n",
    "#     print(f'The vertex is {vertex}\\n')\n",
    "    vertex_1 = info[1]\n",
    "    vertex_2 = info[2]\n",
    "    min_dis = float('inf')\n",
    "    print(f'The vertexs is {vertex_1, vertex_2}')\n",
    "    \n",
    "    #add new point into vertex\n",
    "    new_vertex = length + num\n",
    "    if vertex_1 >= length:\n",
    "        temp1 = vertex[vertex_1]\n",
    "    else:\n",
    "        temp1 = [vertex_1]  \n",
    "    if vertex_2 >= length:\n",
    "        temp2 = vertex[vertex_2]\n",
    "    else:\n",
    "        temp2 = [vertex_2]\n",
    "    point = temp1 + temp2\n",
    "    print(f'The new vertex is {new_vertex}')\n",
    "    vertex[new_vertex] = point\n",
    "    vertex[new_vertex].sort()\n",
    "    print(f'\\nThe Vertex is {vertex}')\n",
    "\n",
    "# delete former vertexs\n",
    "    if vertex_1 in matrix:\n",
    "        matrix.pop(vertex_1)\n",
    "    if vertex_2 in matrix:\n",
    "        matrix.pop(vertex_2)\n",
    "    print(f'The matrix is {matrix}\\n')\n",
    "    \n",
    "# rewrite distance matrix   \n",
    "    for key in matrix:\n",
    "        dis = 0\n",
    "        if key >= length:\n",
    "            for subkey in vertex[key]:\n",
    "                print(f'The dis is {dis}')\n",
    "                for index in vertex[new_vertex]:\n",
    "                    print(f'The dis is {dis}')\n",
    "                    if og_matrix[subkey][index] > dis:\n",
    "                        dis = og_matrix[subkey][index]\n",
    "            \n",
    "            \n",
    "        else:\n",
    "            for index in vertex[new_vertex]:\n",
    "                if og_matrix[key][index] > dis:\n",
    "                    dis = og_matrix[key][index]\n",
    "        \n",
    "        if vertex_1 in matrix[key]:\n",
    "            matrix[key].pop(vertex_1)\n",
    "        if vertex_2 in matrix[key]:\n",
    "            matrix[key].pop(vertex_2)            \n",
    "        matrix[key][new_vertex] = dis\n",
    "                    \n",
    "        # find out the minimal vertexs \n",
    "        point = min(matrix[key], key = matrix[key].get)\n",
    "        if matrix[key][point] < min_dis:\n",
    "            min_dis = matrix[key][point]\n",
    "            info[0] = matrix[key][point]\n",
    "            info[1] = key\n",
    "            info[2] = point\n",
    "                \n",
    "    \n",
    "    matrix[new_vertex] = {}\n",
    "    print(f'After clustering, the matrix is {matrix}')\n",
    "    print(f'Before changing, the result is {result}')\n",
    "    temp = result[:]\n",
    "    for i in temp:\n",
    "        if (isinstance(i, int) and i in vertex[new_vertex]) or (isinstance(i, list) and set(i).issubset(set(vertex[new_vertex]))):\n",
    "            result.remove(i)\n",
    "    result.append(vertex[new_vertex])\n",
    "    \n",
    "#     print(f'In the {num + 1} clustering, the matrix is {matrix}\\n')\n",
    "    \n",
    "    print(f'\\nThe result is {result}\\n')\n",
    "\n",
    "    return result\n",
    "\n",
    "def hc(data, k):# do not change the heading of the function\n",
    "    \n",
    "    og_matrix = original_matrix(data) \n",
    "    matrix, info = distance_matrix(data)\n",
    "    vertex = defaultdict(list)\n",
    "    length = len(data)\n",
    "    result = [x for x in range(length)]\n",
    "    print(f'The result is {result}')\n",
    "    num = 0\n",
    "    print(f'This is the {num + 1} clustering')\n",
    "    print(f'-----------------------------------\\n')\n",
    "    if k >= length - 2:\n",
    "        k = length - 2\n",
    "    while(len(matrix) > k):\n",
    "        result = change_matrix(matrix, og_matrix, info, vertex, length, num, result)\n",
    "        num += 1\n",
    "        print(f'This is the {num + 1} clustering')\n",
    "        print(f'-----------------------------------\\n')\n",
    "    \n",
    "    output = [x for x in range(length)]\n",
    "    for i in result:\n",
    "        if isinstance(i, int):\n",
    "            output[i] = k - 1\n",
    "        else:\n",
    "            for index in i:\n",
    "                output[index] = k - 1\n",
    "        k -= 1\n",
    "    \n",
    "    return output"
   ]
  },
  {
   "cell_type": "code",
   "execution_count": 29,
   "metadata": {},
   "outputs": [
    {
     "name": "stdout",
     "output_type": "stream",
     "text": [
      "[[0.44721 0.89443]\n",
      " [0.94868 0.31623]\n",
      " [0.70711 0.70711]\n",
      " [0.24254 0.97014]\n",
      " [0.99388 0.11043]]\n"
     ]
    }
   ],
   "source": [
    "import numpy as np\n",
    "\n",
    "data = np.loadtxt('asset/data.txt', dtype = float)\n",
    "print(data)"
   ]
  },
  {
   "cell_type": "code",
   "execution_count": 30,
   "metadata": {},
   "outputs": [
    {
     "data": {
      "text/plain": [
       "(defaultdict(dict,\n",
       "             {0: {1: 0.7653668647301797,\n",
       "               2: 0.3203644860139344,\n",
       "               3: 0.21823354378301804,\n",
       "               4: 0.9557706020198838},\n",
       "              1: {2: 0.4595058410947223,\n",
       "               3: 0.9624183163332259,\n",
       "               4: 0.2107016180412031},\n",
       "              2: {3: 0.533867163791623, 4: 0.6620138828710009},\n",
       "              3: {4: 1.1417648360291823},\n",
       "              4: {}}),\n",
       " [0.2107016180412031, 1, 4])"
      ]
     },
     "execution_count": 30,
     "metadata": {},
     "output_type": "execute_result"
    }
   ],
   "source": [
    "matrix = distance_matrix(data)\n",
    "matrix"
   ]
  },
  {
   "cell_type": "code",
   "execution_count": 31,
   "metadata": {},
   "outputs": [
    {
     "data": {
      "text/plain": [
       "defaultdict(dict,\n",
       "            {0: {0: 0,\n",
       "              1: 0.7653668647301797,\n",
       "              2: 0.3203644860139344,\n",
       "              3: 0.21823354378301804,\n",
       "              4: 0.9557706020198838},\n",
       "             1: {0: 0.7653668647301797,\n",
       "              1: 0,\n",
       "              2: 0.4595058410947223,\n",
       "              3: 0.9624183163332259,\n",
       "              4: 0.2107016180412031},\n",
       "             2: {0: 0.3203644860139344,\n",
       "              1: 0.4595058410947223,\n",
       "              2: 0,\n",
       "              3: 0.533867163791623,\n",
       "              4: 0.6620138828710009},\n",
       "             3: {0: 0.21823354378301804,\n",
       "              1: 0.9624183163332259,\n",
       "              2: 0.533867163791623,\n",
       "              3: 0,\n",
       "              4: 1.1417648360291823},\n",
       "             4: {0: 0.9557706020198838,\n",
       "              1: 0.2107016180412031,\n",
       "              2: 0.6620138828710009,\n",
       "              3: 1.1417648360291823,\n",
       "              4: 0}})"
      ]
     },
     "execution_count": 31,
     "metadata": {},
     "output_type": "execute_result"
    }
   ],
   "source": [
    "og_matrix = original_matrix(data)\n",
    "og_matrix"
   ]
  },
  {
   "cell_type": "code",
   "execution_count": 32,
   "metadata": {},
   "outputs": [
    {
     "name": "stdout",
     "output_type": "stream",
     "text": [
      "The result is [0, 1, 2, 3, 4]\n",
      "This is the 1 clustering\n",
      "-----------------------------------\n",
      "\n",
      "The vertexs is (1, 4)\n",
      "The new vertex is 5\n",
      "\n",
      "The Vertex is defaultdict(<class 'list'>, {5: [1, 4]})\n",
      "The matrix is defaultdict(<class 'dict'>, {0: {1: 0.7653668647301797, 2: 0.3203644860139344, 3: 0.21823354378301804, 4: 0.9557706020198838}, 2: {3: 0.533867163791623, 4: 0.6620138828710009}, 3: {4: 1.1417648360291823}})\n",
      "\n",
      "After clustering, the matrix is defaultdict(<class 'dict'>, {0: {2: 0.3203644860139344, 3: 0.21823354378301804, 5: 0.9557706020198838}, 2: {3: 0.533867163791623, 5: 0.6620138828710009}, 3: {5: 1.1417648360291823}, 5: {}})\n",
      "Before changing, the result is [0, 1, 2, 3, 4]\n",
      "\n",
      "The result is [0, 2, 3, [1, 4]]\n",
      "\n",
      "This is the 2 clustering\n",
      "-----------------------------------\n",
      "\n",
      "The vertexs is (0, 3)\n",
      "The new vertex is 6\n",
      "\n",
      "The Vertex is defaultdict(<class 'list'>, {5: [1, 4], 6: [0, 3]})\n",
      "The matrix is defaultdict(<class 'dict'>, {2: {3: 0.533867163791623, 5: 0.6620138828710009}, 5: {}})\n",
      "\n",
      "The dis is 0\n",
      "The dis is 0\n",
      "The dis is 0.7653668647301797\n",
      "The dis is 0.9624183163332259\n",
      "The dis is 0.9624183163332259\n",
      "The dis is 0.9624183163332259\n",
      "After clustering, the matrix is defaultdict(<class 'dict'>, {2: {5: 0.6620138828710009, 6: 0.533867163791623}, 5: {6: 1.1417648360291823}, 6: {}})\n",
      "Before changing, the result is [0, 2, 3, [1, 4]]\n",
      "\n",
      "The result is [2, [1, 4], [0, 3]]\n",
      "\n",
      "This is the 3 clustering\n",
      "-----------------------------------\n",
      "\n"
     ]
    },
    {
     "data": {
      "text/plain": [
       "[0, 1, 2, 0, 1]"
      ]
     },
     "execution_count": 32,
     "metadata": {},
     "output_type": "execute_result"
    }
   ],
   "source": [
    "hc(data, 3)"
   ]
  },
  {
   "cell_type": "code",
   "execution_count": 15,
   "metadata": {},
   "outputs": [],
   "source": [
    "from matplotlib import pyplot as plt\n",
    "from scipy.cluster.hierarchy import dendrogram, linkage, fcluster\n",
    "import numpy as np\n",
    "\n",
    "%matplotlib inline\n",
    "np.set_printoptions(precision=5, suppress=True)"
   ]
  },
  {
   "cell_type": "code",
   "execution_count": 17,
   "metadata": {},
   "outputs": [
    {
     "name": "stdout",
     "output_type": "stream",
     "text": [
      "[[1.      4.      0.2107  2.     ]\n",
      " [0.      3.      0.21823 2.     ]\n",
      " [2.      6.      0.53387 3.     ]\n",
      " [5.      7.      1.14176 5.     ]]\n"
     ]
    }
   ],
   "source": [
    "Z = linkage(data, 'complete')\n",
    "print(Z)"
   ]
  },
  {
   "cell_type": "code",
   "execution_count": null,
   "metadata": {},
   "outputs": [],
   "source": []
  }
 ],
 "metadata": {
  "kernelspec": {
   "display_name": "Python 3",
   "language": "python",
   "name": "python3"
  },
  "language_info": {
   "codemirror_mode": {
    "name": "ipython",
    "version": 3
   },
   "file_extension": ".py",
   "mimetype": "text/x-python",
   "name": "python",
   "nbconvert_exporter": "python",
   "pygments_lexer": "ipython3",
   "version": "3.7.3"
  }
 },
 "nbformat": 4,
 "nbformat_minor": 2
}
