{
 "cells": [
  {
   "cell_type": "markdown",
   "metadata": {},
   "source": [
    "# COMP9318-Lab5"
   ]
  },
  {
   "cell_type": "markdown",
   "metadata": {},
   "source": [
    "## Instructions\n",
    "1. This note book contains instructions for **COMP9318-Lab5**.\n",
    "\n",
    "* You are required to complete your implementation in a file `submission.py` provided along with this notebook.\n",
    "\n",
    "* You are not allowed to print out unnecessary stuff. We will not consider any output printed out on the screen. All results should be returned in appropriate data structures via corresponding functions.\n",
    "\n",
    "* You can submit your implementation for **Lab5** via following link: https://kg.cse.unsw.edu.au/submit/ .\n",
    "\n",
    "* For each question, we have provided you with detailed instructions along with question headings. In case of any problem, you can post your query @ Ed.\n",
    "\n",
    "* You are allowed to add other functions and/or import modules (you may have to in this lab), but you are not allowed to define global variables. **Only functions are allowed** in `submission.py`. \n",
    "\n",
    "* You should not import unnecessary modules/libraries, failing to import such modules at test time will lead to errors.\n",
    "\n",
    "* We will provide immediate feedback on your submission. You can access your scores using the online submission portal on the same day. \n",
    "\n",
    "* For **Final Evaluation** we will be using a different dataset, so your final scores may vary.  \n",
    "\n",
    "* You are allowed to submit as many times as you want before the deadline, but **ONLY the latest version will be kept and marked**.\n",
    "\n",
    "* Submission deadline for this assignment is **20:59:59 on 25th April, 2021**. We will **not** accept any late submissions."
   ]
  },
  {
   "cell_type": "markdown",
   "metadata": {},
   "source": [
    "# Quesion 1: Hierarchical Clustering\n",
    "\n",
    "You are required to implement a hierarchical clustering algorithm.\n",
    "\n",
    "The input data is a set of unit vectors (i.e., their norm is 1)."
   ]
  },
  {
   "cell_type": "code",
   "execution_count": 1,
   "metadata": {},
   "outputs": [
    {
     "name": "stdout",
     "output_type": "stream",
     "text": [
      "[[0.4472136  0.89442719]\n",
      " [0.9486833  0.31622777]\n",
      " [0.70710678 0.70710678]\n",
      " [0.24253563 0.9701425 ]\n",
      " [0.99388373 0.11043153]]\n"
     ]
    }
   ],
   "source": [
    "import numpy as np\n",
    "\n",
    "data = np.loadtxt('asset/data.txt', dtype = float)\n",
    "print(data)"
   ]
  },
  {
   "cell_type": "markdown",
   "metadata": {},
   "source": [
    "We use inner product to evaluate the similarity between two vectors."
   ]
  },
  {
   "cell_type": "code",
   "execution_count": 2,
   "metadata": {},
   "outputs": [
    {
     "name": "stdout",
     "output_type": "stream",
     "text": [
      "0.7071067811865475\n"
     ]
    }
   ],
   "source": [
    "def dot_product(a, b):\n",
    "    res = 0\n",
    "    for i in range(len(a)):\n",
    "        res += a[i] * b[i]\n",
    "    return res\n",
    "\n",
    "print(dot_product(data[0], data[1]))"
   ]
  },
  {
   "cell_type": "markdown",
   "metadata": {},
   "source": [
    "You need to implement the hierarchical clustering algorithm with **complete link**.\n",
    "\n",
    "The two arguments of ```hc()``` are ```data``` and ```k```, where ```k``` is the number of clusters.\n",
    "\n",
    "The expected output is a list of ```n``` integers, which correspond to the labels of these vectors. The integer (i.e., label) should in $[0,k)$."
   ]
  },
  {
   "cell_type": "code",
   "execution_count": 3,
   "metadata": {},
   "outputs": [
    {
     "name": "stdout",
     "output_type": "stream",
     "text": [
      "[2, 0, 1, 2, 0]\n"
     ]
    }
   ],
   "source": [
    "import submission as submission\n",
    "\n",
    "k = 3\n",
    "print(submission.hc(data, k))"
   ]
  },
  {
   "cell_type": "markdown",
   "metadata": {},
   "source": [
    "We only interesting in the clustering results rather than the labels (for example, ```[1, 0, 2, 1, 0]``` and ```[2, 0, 1, 2, 0]``` are considered to be the same). Thus we will use the average similarity between each vector and its cluster center to evaluate your implementation.\n",
    "\n",
    "Note: you do not need to implement ```compute_error()``` or include it in your submission."
   ]
  },
  {
   "cell_type": "code",
   "execution_count": 4,
   "metadata": {},
   "outputs": [
    {
     "data": {
      "text/plain": [
       "8.907978948522723"
      ]
     },
     "execution_count": 4,
     "metadata": {},
     "output_type": "execute_result"
    }
   ],
   "source": [
    "def compute_error(data, labels, k):\n",
    "    n, d = data.shape\n",
    "    centers = []\n",
    "    for i in range(k):\n",
    "        centers.append([0 for j in range(d)])\n",
    "    \n",
    "    for i in range(n):\n",
    "        centers[labels[i]] = [x + y for x, y in zip(centers[labels[i]], data[i])]\n",
    "\n",
    "    error = 0\n",
    "    for i in range(n):\n",
    "        error += dot_product(centers[labels[i]], data[i])\n",
    "    return error \n",
    "    \n",
    "compute_error(data, submission.hc(data, k), k)"
   ]
  },
  {
   "cell_type": "code",
   "execution_count": null,
   "metadata": {
    "collapsed": true
   },
   "outputs": [],
   "source": []
  }
 ],
 "metadata": {
  "kernelspec": {
   "display_name": "Python 3",
   "language": "python",
   "name": "python3"
  },
  "language_info": {
   "codemirror_mode": {
    "name": "ipython",
    "version": 3
   },
   "file_extension": ".py",
   "mimetype": "text/x-python",
   "name": "python",
   "nbconvert_exporter": "python",
   "pygments_lexer": "ipython3",
   "version": "3.6.5"
  }
 },
 "nbformat": 4,
 "nbformat_minor": 2
}
